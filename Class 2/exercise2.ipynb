{
 "cells": [
  {
   "cell_type": "code",
   "execution_count": 12,
   "id": "0a54dc85",
   "metadata": {},
   "outputs": [
    {
     "name": "stdout",
     "output_type": "stream",
     "text": [
      "Path: S -> A -> C -> B -> D -> E -> D -> B -> S -> A -> C -> G | Cost: 11\n",
      "Path: S -> A -> C -> B -> D -> E -> D -> B -> C -> G | Cost: 9\n",
      "Path: S -> A -> C -> B -> D -> E -> D -> C -> G | Cost: 8\n",
      "Path: S -> A -> C -> D -> E -> D -> B -> S -> A -> C -> G | Cost: 10\n",
      "Path: S -> A -> C -> D -> E -> D -> B -> C -> G | Cost: 8\n",
      "Path: S -> A -> C -> D -> E -> D -> C -> G | Cost: 7\n",
      "Path: S -> B -> C -> D -> E -> D -> B -> S -> A -> C -> G | Cost: 10\n",
      "Path: S -> B -> C -> D -> E -> D -> B -> C -> G | Cost: 8\n",
      "Path: S -> B -> C -> D -> E -> D -> C -> G | Cost: 7\n",
      "Path: S -> B -> D -> E -> D -> B -> S -> A -> C -> G | Cost: 9\n",
      "Path: S -> B -> D -> E -> D -> B -> C -> G | Cost: 7\n",
      "Path: S -> B -> D -> E -> D -> C -> G | Cost: 6\n",
      "\n",
      "Best path: S -> B -> D -> E -> D -> C -> G | Total cost: 6\n"
     ]
    }
   ],
   "source": [
    "graph = {\n",
    "    \"S\": [\"A\", \"B\"],\n",
    "    \"A\": [\"S\", \"C\"],\n",
    "    \"B\": [\"S\", \"C\", \"D\"],\n",
    "    \"C\": [\"A\", \"B\", \"D\", \"G\"],  # C->G only if we have the key\n",
    "    \"D\": [\"B\", \"C\", \"E\"],\n",
    "    \"E\": [\"D\"],                # key here\n",
    "    \"G\": []\n",
    "}\n",
    "\n",
    "all_paths = []\n",
    "\n",
    "def search(node, has_key, path, visited):\n",
    "    if (node, has_key) in visited:\n",
    "        return\n",
    "\n",
    "    visited.add((node, has_key))\n",
    "    path.append(node)\n",
    "\n",
    "    if node == \"G\":\n",
    "        cost = len(path) - 1\n",
    "        print(\"Path:\", \" -> \".join(path), \"| Cost:\", cost)\n",
    "        all_paths.append((cost, path.copy()))\n",
    "    else:\n",
    "        for next_node in graph[node]:\n",
    "            if node == \"C\" and next_node == \"G\" and not has_key:\n",
    "                continue\n",
    "            new_key = has_key or (next_node == \"E\")\n",
    "            search(next_node, new_key, path, visited)\n",
    "\n",
    "    path.pop()\n",
    "    visited.remove((node, has_key))\n",
    "\n",
    "# Run the search\n",
    "search(\"S\", False, [], set())\n",
    "\n",
    "# Find best (lowest cost) path\n",
    "best = min(all_paths, key=lambda x: x[0])\n",
    "print(\"\\nBest path:\", \" -> \".join(best[1]), \"| Total cost:\", best[0])"
   ]
  }
 ],
 "metadata": {
  "kernelspec": {
   "display_name": "Python 3",
   "language": "python",
   "name": "python3"
  },
  "language_info": {
   "codemirror_mode": {
    "name": "ipython",
    "version": 3
   },
   "file_extension": ".py",
   "mimetype": "text/x-python",
   "name": "python",
   "nbconvert_exporter": "python",
   "pygments_lexer": "ipython3",
   "version": "3.13.2"
  }
 },
 "nbformat": 4,
 "nbformat_minor": 5
}
